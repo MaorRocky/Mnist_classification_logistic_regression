{
 "cells": [
  {
   "cell_type": "markdown",
   "metadata": {},
   "source": [
    "# Mnist classifier using Gradient Descent and Newton method\n",
    "### we sill use logistic regression to classify 8&9 and 0&1 digits"
   ]
  },
  {
   "cell_type": "code",
   "execution_count": 1,
   "metadata": {},
   "outputs": [],
   "source": [
    "import numpy as np\n",
    "import matplotlib.pyplot as plt\n",
    "from scipy.special import expit\n",
    "import pandas as pd\n",
    "from mlxtend.data import loadlocal_mnist\n",
    "from sklearn.preprocessing import MinMaxScaler"
   ]
  },
  {
   "cell_type": "markdown",
   "metadata": {
    "pycharm": {
     "name": "#%% md\n"
    }
   },
   "source": [
    "### example of using the sigmoid function"
   ]
  },
  {
   "cell_type": "code",
   "execution_count": 2,
   "metadata": {
    "pycharm": {
     "name": "#%% \n"
    }
   },
   "outputs": [
    {
     "data": {
      "image/png": "[encoded data removed]",
      "text/plain": [
       "<Figure size 432x288 with 1 Axes>"
      ]
     },
     "metadata": {
      "needs_background": "light"
     },
     "output_type": "display_data"
    }
   ],
   "source": [
    "x = np.linspace(-6, 6, 121)\n",
    "y = expit(x)\n",
    "plt.plot(x, y)\n",
    "plt.grid()\n",
    "plt.xlim(-6, 6)\n",
    "plt.xlabel('x')\n",
    "plt.title('expit(x)')\n",
    "plt.show()\n",
    "\n"
   ]
  },
  {
   "cell_type": "markdown",
   "metadata": {},
   "source": [
    "## Loading the data, and filtering only 8&9 digitis with with corresponding labels of 0/1"
   ]
  },
  {
   "cell_type": "code",
   "execution_count": 3,
   "metadata": {
    "scrolled": true
   },
   "outputs": [
    {
     "data": {
      "image/png": "[encoded data removed]",
      "text/plain": [
       "<Figure size 432x288 with 4 Axes>"
      ]
     },
     "metadata": {
      "needs_background": "light"
     },
     "output_type": "display_data"
    },
    {
     "name": "stdout",
     "output_type": "stream",
     "text": [
      "Dimensions: 5878 x 784\n",
      "Digits: 8 9\n",
      "labels: [0 1]\n",
      "[0 0 0 ... 1 1 1]\n",
      "Class distribution: [2875 3003]\n"
     ]
    }
   ],
   "source": [
    "def filter(images, labels, digit_c1, digit_c2):\n",
    "    '''\n",
    "    :param images:\n",
    "    :param labels:\n",
    "    :return: filted images and labels , images will have only 8/9 images,\n",
    "             with corresponding labels of 0/1\n",
    "    '''\n",
    "    index_of_c1 = []\n",
    "    index_of_c2 = []\n",
    "    for index, label in enumerate(labels):\n",
    "        if label == digit_c1:\n",
    "            index_of_c1.append(index)\n",
    "        elif label == digit_c2:\n",
    "            index_of_c2.append(index)\n",
    "    join_eight_nine_list = [*index_of_c1, *index_of_c2]\n",
    "    images = np.take(images, join_eight_nine_list, axis=0)\n",
    "    labels = np.take(labels, join_eight_nine_list, axis=0)\n",
    "    labels = np.array([0 if label == digit_c1 else 1 for label in labels])\n",
    "    return (images, labels)\n",
    "\n",
    "\n",
    "train_x, train_y = loadlocal_mnist(\n",
    "    images_path='/home/maor/Desktop/MMA202/section4/code/data/train-images.idx3-ubyte',\n",
    "    labels_path='/home/maor/Desktop/MMA202/section4/code/data/train-labels.idx1-ubyte')\n",
    "train_x = train_x[:30000]\n",
    "train_y = train_y[:30000]\n",
    "train_x_8_9, train_y_8_9 = filter(train_x, train_y, 8, 9)\n",
    "train_x_0_1, train_y_0_1 = filter(train_x, train_y, 0, 1)\n",
    "\n",
    "test_x, test_y = loadlocal_mnist(\n",
    "    images_path='/home/maor/Desktop/MMA202/section4/code/data/t10k-images.idx3-ubyte',\n",
    "    labels_path='/home/maor/Desktop/MMA202/section4/code/data/t10k-labels.idx1-ubyte')\n",
    "test_x = test_x[:3000]\n",
    "test_y = test_y[:3000]\n",
    "test_x_8_9, test_y_8_9 = filter(test_x, test_y, 8, 9)\n",
    "test_x_0_1, test_y_0_1 = filter(test_x, test_y, 0, 1)\n",
    "\n",
    "scaler = MinMaxScaler()\n",
    "\n",
    "digit_8 = train_x_8_9[0].reshape((28, 28))\n",
    "digit_9 = train_x_8_9[-1].reshape((28, 28))\n",
    "digit_0 = train_x_0_1[0].reshape((28, 28))\n",
    "digit_1 = train_x_0_1[-1].reshape((28, 28))\n",
    "plt.subplot(221, title='Digit 8')\n",
    "plt.imshow(digit_8, cmap='gray');\n",
    "plt.subplot(222, title='Digit 9')\n",
    "plt.imshow(digit_9, cmap='gray');\n",
    "plt.subplot(223, title='Digit 0')\n",
    "plt.imshow(digit_0, cmap='gray');\n",
    "plt.subplot(224, title='Digit 1')\n",
    "plt.imshow(digit_1, cmap='gray');\n",
    "plt.tight_layout(1)\n",
    "plt.show()\n",
    "\n",
    "print('Dimensions: %s x %s' % (train_x_8_9.shape[0], train_x_8_9.shape[1]))\n",
    "print('Digits: 8 9')\n",
    "print('labels: %s' % np.unique(train_y_8_9))\n",
    "print(train_y_8_9)\n",
    "print('Class distribution: %s' % np.bincount(train_y_8_9))"
   ]
  },
  {
   "cell_type": "markdown",
   "metadata": {},
   "source": [
    "### The functions we will be using"
   ]
  },
  {
   "cell_type": "code",
   "execution_count": 4,
   "metadata": {},
   "outputs": [],
   "source": [
    "def data_init(X, y):\n",
    "    '''\n",
    "\n",
    "    :param X:train_x\n",
    "    :param y:train_y - labels\n",
    "    :return: add a ones to each row of train_x\n",
    "                create zeros weights called params\n",
    "                make the laable a matrix insted of just list.\n",
    "    '''\n",
    "    y = y[:, np.newaxis]\n",
    "    m = len(y)\n",
    "    X = np.hstack((np.ones((m, 1)), X))\n",
    "    n = np.size(X, 1)\n",
    "    # params = np.random.rand(n,1)\n",
    "    params = np.zeros((n, 1))\n",
    "    return (X, y, params)\n",
    "\n",
    "\n",
    "def sigmoid(x):\n",
    "    return expit(x)\n",
    "\n",
    "\n",
    "def predict(features, weights):\n",
    "    z = np.dot(features, weights)\n",
    "    return expit(z)\n",
    "\n",
    "\n",
    "def cost_function(features, labels, weights):\n",
    "    observations = len(labels)\n",
    "    predictions = predict(features, weights)\n",
    "    # Take the error when label=1\n",
    "    class1_cost = -labels * np.log(predictions)\n",
    "    # Take the error when label=0\n",
    "    class2_cost = (1 - labels) * np.log(1 - predictions)\n",
    "    # Take the sum of both costs\n",
    "    cost = class1_cost - class2_cost\n",
    "    # Take the average cost\n",
    "    cost = cost.sum() / observations\n",
    "    return cost\n",
    "\n",
    "\n",
    "def gradient_descent(features, labels, weights, lr):\n",
    "    N = len(features)\n",
    "    predictions = predict(features, weights)\n",
    "    gradient = np.dot(features.T, predictions - labels)\n",
    "    gradient /= N\n",
    "    gradient *= lr\n",
    "    weights -= gradient\n",
    "    return weights\n",
    "\n",
    "# we will use this function in newton method\n",
    "def gradient(features, labels, weights, lr):\n",
    "    N = len(features)\n",
    "    predictions = predict(features, weights)\n",
    "    gradient = np.dot(features.T, predictions - labels)\n",
    "    gradient /= N\n",
    "    gradient *= lr\n",
    "    return gradient\n",
    "\n",
    "def trainGD(features, labels, weights, lr, iters):\n",
    "    cost_history = []\n",
    "    for i in range(iters):\n",
    "        weights = gradient_descent(features, labels, weights, lr)\n",
    "        # Calculate error for auditing purposes\n",
    "        cost = cost_function(features, labels, weights)\n",
    "        cost_history.append(cost)\n",
    "        # if i != 0 and abs(cost_history[i] - cost_history[i - 1]) < 1e-4:\n",
    "        #     break;\n",
    "        # Log Progress\n",
    "        if i % 1000 == 0:\n",
    "            print(\"iter: \" + str(i) + \" cost: \" + str(cost))\n",
    "\n",
    "    return cost_history, weights\n",
    "\n",
    "def hessian(features, weights):\n",
    "    M = len(features)\n",
    "    predictions = predict(features, weights)\n",
    "    D = np.diag(np.diag(np.dot(predictions, (1 - predictions).T)))\n",
    "    result = (1 / M) * np.dot(features.T, np.dot(D, features))\n",
    "    return result\n",
    "\n",
    "\n",
    "def newton(features, labels, weights, lr):\n",
    "    h = hessian(features, weights)\n",
    "    inv_h = np.linalg.inv(h + np.eye(h.shape[0]) * 0.3)\n",
    "    grad = gradient(features, labels, weights, lr)\n",
    "    d = (-1) * np.dot(np.linalg.inv(h + np.eye(h.shape[0]) * 0.3), gradient(features, labels, weights, lr))\n",
    "    weights = weights + (0.2 * d)\n",
    "    return weights\n",
    "\n",
    "\n",
    "def train_Newton(features, labels, weights, lr, iters):\n",
    "    cost_history = []\n",
    "    for i in range(iters):\n",
    "        weights = newton(features, labels, weights, lr)\n",
    "        # Calculate error for auditing purposes\n",
    "        cost = cost_function(features, labels, weights)\n",
    "        cost_history.append(cost)\n",
    "        # if i != 0 and abs(cost_history[i] - cost_history[i - 1]) < 1e-4:\n",
    "        #     break;\n",
    "        # Log Progress\n",
    "        if i % 1000 == 0:\n",
    "            print(\"iter: \" + str(i) + \" cost: \" + str(cost))\n",
    "\n",
    "    return cost_history, weights"
   ]
  },
  {
   "cell_type": "markdown",
   "metadata": {},
   "source": [
    "## Training the program\n",
    "we will use several learning rates, i.e. lr, including lr=1,0,3,0.2,0.1"
   ]
  },
  {
   "cell_type": "code",
   "execution_count": 5,
   "metadata": {},
   "outputs": [
    {
     "name": "stdout",
     "output_type": "stream",
     "text": [
      "iter: 0 cost: 0.2921735259419504\n",
      "iter: 0 cost: 0.034579559863731214\n",
      "iter: 0 cost: 0.032226122118063645\n",
      "iter: 0 cost: 0.03097955174601086\n"
     ]
    },
    {
     "data": {
      "image/png": "[encoded data removed]",
      "text/plain": [
       "<Figure size 432x288 with 1 Axes>"
      ]
     },
     "metadata": {
      "needs_background": "light"
     },
     "output_type": "display_data"
    }
   ],
   "source": [
    "(X, y, params) = data_init(train_x_8_9, train_y_8_9)\n",
    "scaler = MinMaxScaler()\n",
    "#\n",
    "X = scaler.fit_transform(X)\n",
    "y = scaler.fit_transform(y)\n",
    "params = scaler.fit_transform(params)\n",
    "lr_list = [1, 0.3, 0.2, 0.1]\n",
    "c_list = ['red', 'green', 'yellow', 'orange']\n",
    "\n",
    "for lr, color in zip(lr_list, c_list):\n",
    "    (cost_history, params_optimal) = trainGD(X, y, params, lr, 1000)\n",
    "    plt.plot(range(len(cost_history)), cost_history, c=color);\n",
    "# (cost_history, params_optimal) = train(X, y, params, 1, 100)\n",
    "# plt.plot(range(len(cost_history)), cost_history, c='red')\n",
    "plt.yscale('log')\n",
    "x = np.linspace(0, 1000, 101)\n",
    "plt.title(\"Convergence Graph of Cost Function\")\n",
    "plt.xlabel(\"Number of Iterations\")\n",
    "plt.xlim(0, 1000)\n",
    "plt.grid()\n",
    "plt.ylabel(\"Cost\")\n",
    "plt.show()\n"
   ]
  },
  {
   "cell_type": "markdown",
   "metadata": {
    "pycharm": {
     "name": "#%% md\n"
    }
   },
   "source": [
    "### now we will evaluate our GD program, using only 100 iterations we get high accuracy on the data\n"
   ]
  },
  {
   "cell_type": "code",
   "execution_count": 6,
   "metadata": {
    "pycharm": {
     "name": "#%%\n"
    }
   },
   "outputs": [
    {
     "name": "stdout",
     "output_type": "stream",
     "text": [
      "Evaluation results for 8 and 9 digits:\n",
      "--------------------------------------------------\n",
      "iter: 0 cost: 0.2921735259419504\n",
      "Training Score: 0.9797550187138483\n",
      "Test Score: 0.9569707401032702\n",
      "\n",
      "\n",
      "Evaluation results for 0 and 1 digits:\n",
      "--------------------------------------------------\n",
      "iter: 0 cost: 0.05379208762436325\n",
      "Training Score: 0.9981203007518797\n",
      "Test Score: 1.0\n"
     ]
    }
   ],
   "source": [
    "def accuracy(predicted_labels, actual_labels):\n",
    "    diff = predicted_labels - actual_labels\n",
    "    return 1.0 - (float(np.count_nonzero(diff)) / len(diff))\n",
    "\n",
    "\n",
    "def classify(predictions):\n",
    "    '''\n",
    "    input  - N element array of predictions between 0 and 1\n",
    "    output - N element array of 0s (False) and 1s (True)\n",
    "    '''\n",
    "    predictions = [1 if pred > 0.5 else 0 for pred in predictions]\n",
    "    return predictions\n",
    "\n",
    "\n",
    "def evaluate(train_X, train_y, test_X, test_y, learning_rate):\n",
    "    (X, y, params) = data_init(train_X, train_y)\n",
    "    X = scaler.fit_transform(X)\n",
    "    (_, params_optimal_1) = trainGD(X, y, params, learning_rate, 100)\n",
    "    X_test = np.hstack((np.ones((test_X.shape[0], 1)), test_X))\n",
    "    X_test = scaler.fit_transform(X_test)\n",
    "    y_pred_train = predict(X, params_optimal_1)\n",
    "    y_pred_train = classify(y_pred_train)\n",
    "    train_score = accuracy(y_pred_train, train_y)\n",
    "    print('Training Score:', train_score)\n",
    "    y_pred_test = predict(X_test, params_optimal_1)\n",
    "    y_pred_test = classify(y_pred_test)\n",
    "    test_score = accuracy(y_pred_test, test_y)\n",
    "    print('Test Score:', test_score)\n",
    "\n",
    "\n",
    "print('Evaluation results for 8 and 9 digits:')\n",
    "print('-' * 50)\n",
    "evaluate(train_x_8_9, train_y_8_9, test_x_8_9, test_y_8_9, 1)\n",
    "print('\\n\\nEvaluation results for 0 and 1 digits:')\n",
    "print('-' * 50)\n",
    "evaluate(train_x_0_1, train_y_0_1, test_x_0_1, test_y_0_1, 1)\n",
    "\n",
    "\n"
   ]
  },
  {
   "cell_type": "markdown",
   "metadata": {},
   "source": [
    "### Now we will do the same with Newton method using 12 iterations"
   ]
  },
  {
   "cell_type": "code",
   "execution_count": 7,
   "metadata": {},
   "outputs": [
    {
     "name": "stdout",
     "output_type": "stream",
     "text": [
      "iter: 0 cost: 0.030422179838893986\n",
      "iter: 0 cost: 0.03042467087346299\n",
      "iter: 0 cost: 0.030425026769123592\n",
      "iter: 0 cost: 0.030425382673179555\n"
     ]
    },
    {
     "data": {
      "image/png": "[encoded data removed]",
      "text/plain": [
       "<Figure size 432x288 with 1 Axes>"
      ]
     },
     "metadata": {
      "needs_background": "light"
     },
     "output_type": "display_data"
    }
   ],
   "source": [
    "lr_list = [1, 0.3, 0.2, 0.1]\n",
    "c_list = ['red', 'green', 'yellow', 'orange']\n",
    "\n",
    "for lr, color in zip(lr_list, c_list):\n",
    "    (cost_history, params_optimal) = train_Newton(X, y, params, lr, 20)\n",
    "    plt.plot(range(len(cost_history)), cost_history, c=color)\n",
    "# (cost_history, params_optimal) = train(X, y, params, 1, 70)\n",
    "# plt.plot(range(len(cost_history)), cost_history, c='red')\n",
    "plt.yscale('log')\n",
    "x = np.linspace(0, 10, 11)\n",
    "plt.title(\"Convergence Graph of Cost Function\")\n",
    "plt.xlabel(\"Number of Iterations\")\n",
    "plt.xlim(0, 11)\n",
    "plt.grid()\n",
    "plt.ylabel(\"Cost\")\n",
    "plt.show()\n"
   ]
  },
  {
   "cell_type": "code",
   "execution_count": 8,
   "metadata": {},
   "outputs": [
    {
     "name": "stdout",
     "output_type": "stream",
     "text": [
      "Evaluation results for 8 and 9 digits:\n",
      "--------------------------------------------------\n",
      "iter: 0 cost: 0.5798044024298091\n",
      "Training Score: 0.9644436883293638\n",
      "Test Score: 0.9466437177280551\n",
      "Evaluation results for 0 and 1 digits:\n",
      "--------------------------------------------------\n",
      "iter: 0 cost: 0.5386350732693072\n",
      "Training Score: 0.9974937343358397\n",
      "Test Score: 1.0\n"
     ]
    }
   ],
   "source": [
    "def evaluate(train_X, train_y, test_X, test_y, learning_rate):\n",
    "    (X, y, params) = data_init(train_X, train_y)\n",
    "    X = scaler.fit_transform(X)\n",
    "    (_, params_optimal_1) = train_Newton(X, y, params, learning_rate, 12)\n",
    "    X_test = np.hstack((np.ones((test_X.shape[0], 1)), test_X))\n",
    "    X_test = scaler.fit_transform(X_test)\n",
    "    y_pred_train = predict(X, params_optimal_1)\n",
    "    y_pred_train = classify(y_pred_train)\n",
    "    train_score = accuracy(y_pred_train, train_y)\n",
    "    print('Training Score:', train_score)\n",
    "    y_pred_test = predict(X_test, params_optimal_1)\n",
    "    y_pred_test = classify(y_pred_test)\n",
    "    test_score = accuracy(y_pred_test, test_y)\n",
    "    print('Test Score:', test_score)\n",
    "\n",
    "\n",
    "print('Evaluation results for 8 and 9 digits:')\n",
    "print('-' * 50)\n",
    "evaluate(train_x_8_9, train_y_8_9, test_x_8_9, test_y_8_9, 1)\n",
    "print('Evaluation results for 0 and 1 digits:')\n",
    "print('-' * 50)\n",
    "evaluate(train_x_0_1, train_y_0_1, test_x_0_1, test_y_0_1, 1)"
   ]
  }
 ],
 "metadata": {
  "kernelspec": {
   "display_name": "Python 3",
   "language": "python",
   "name": "python3"
  },
  "language_info": {
   "codemirror_mode": {
    "name": "ipython",
    "version": 3
   },
   "file_extension": ".py",
   "mimetype": "text/x-python",
   "name": "python",
   "nbconvert_exporter": "python",
   "pygments_lexer": "ipython3",
   "version": "3.7.6"
  }
 },
 "nbformat": 4,
 "nbformat_minor": 4
}

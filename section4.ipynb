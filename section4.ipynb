{
 "cells": [
  {
   "cell_type": "code",
   "execution_count": 1,
   "metadata": {},
   "outputs": [],
   "source": [
    "import numpy as np\n",
    "import matplotlib.pyplot as plt\n",
    "from scipy.special import expit\n",
    "import pandas as pd\n",
    "from mlxtend.data import loadlocal_mnist\n",
    "from sklearn.preprocessing import MinMaxScaler"
   ]
  },
  {
   "cell_type": "markdown",
   "metadata": {
    "pycharm": {
     "name": "#%% md\n"
    }
   },
   "source": [
    "### example of using the sigmoid function"
   ]
  },
  {
   "cell_type": "code",
   "execution_count": 2,
   "metadata": {
    "pycharm": {
     "name": "#%% \n"
    }
   },
   "outputs": [
    {
     "data": {
      "image/png": "[encoded data removed]",
      "text/plain": [
       "<Figure size 432x288 with 1 Axes>"
      ]
     },
     "metadata": {
      "needs_background": "light"
     },
     "output_type": "display_data"
    }
   ],
   "source": [
    "x = np.linspace(-6, 6, 121)\n",
    "y = expit(x)\n",
    "plt.plot(x, y)\n",
    "plt.grid()\n",
    "plt.xlim(-6, 6)\n",
    "plt.xlabel('x')\n",
    "plt.title('expit(x)')\n",
    "plt.show()\n",
    "\n"
   ]
  },
  {
   "cell_type": "markdown",
   "metadata": {},
   "source": [
    "## Loading the data, and filtering only 8&9 digitis with with corresponding labels of 0/1"
   ]
  },
  {
   "cell_type": "code",
   "execution_count": 3,
   "metadata": {
    "scrolled": true
   },
   "outputs": [
    {
     "name": "stdout",
     "output_type": "stream",
     "text": [
      "[0 0 0 ... 1 1 1]\n"
     ]
    },
    {
     "data": {
      "image/png": "[encoded data removed]",
      "text/plain": [
       "<Figure size 432x288 with 2 Axes>"
      ]
     },
     "metadata": {
      "needs_background": "light"
     },
     "output_type": "display_data"
    },
    {
     "name": "stdout",
     "output_type": "stream",
     "text": [
      "Dimensions: 5878 x 784\n",
      "Digits: 8 9\n",
      "labels: [0 1]\n",
      "Class distribution: [2875 3003]\n"
     ]
    }
   ],
   "source": [
    "def filter(images, labels):\n",
    "    '''\n",
    "    :param images:\n",
    "    :param labels:\n",
    "    :return: filted images and labels , images will have only 8/9 images,\n",
    "             with corresponding labels of 0/1\n",
    "    '''\n",
    "    index_of_nine = []\n",
    "    index_of_eight = []\n",
    "    for index, label in enumerate(labels):\n",
    "        if label == 8:\n",
    "            index_of_eight.append(index)\n",
    "        elif label == 9:\n",
    "            index_of_nine.append(index)\n",
    "    join_eight_nine_list = [*index_of_eight, *index_of_nine]\n",
    "    images = np.take(images, join_eight_nine_list, axis=0)\n",
    "    labels = np.take(labels, join_eight_nine_list, axis=0)\n",
    "    labels = np.array([0 if label == 8 else 1 for label in labels])\n",
    "    return (images, labels)\n",
    "\n",
    "\n",
    "train_x, train_y = loadlocal_mnist(\n",
    "    images_path='/home/maor/Desktop/MMA202/section4/code/data/train-images.idx3-ubyte',\n",
    "    labels_path='/home/maor/Desktop/MMA202/section4/code/data/train-labels.idx1-ubyte')\n",
    "train_x = train_x[:30000]\n",
    "train_y = train_y[:30000]\n",
    "train_x, train_y = filter(train_x, train_y)\n",
    "\n",
    "test_x, test_y = loadlocal_mnist(\n",
    "    images_path='/home/maor/Desktop/MMA202/section4/code/data/t10k-images.idx3-ubyte',\n",
    "    labels_path='/home/maor/Desktop/MMA202/section4/code/data/t10k-labels.idx1-ubyte')\n",
    "test_x = test_x[:3000]\n",
    "test_y = test_y[:3000]\n",
    "test_x, test_y = filter(test_x, test_y)\n",
    "scaler = MinMaxScaler()\n",
    "test_x = scaler.fit_transform(test_x)\n",
    "\n",
    "digit_8 = train_x[0].reshape((28, 28))\n",
    "digit_9 = train_x[-1].reshape((28, 28))\n",
    "print(train_y)\n",
    "plt.subplot(121, title='Digit 8')\n",
    "plt.imshow(digit_8, cmap='gray');\n",
    "plt.subplot(122, title='Digit 9')\n",
    "plt.imshow(digit_9, cmap='gray');\n",
    "plt.show()\n",
    "\n",
    "print('Dimensions: %s x %s' % (train_x.shape[0], train_x.shape[1]))\n",
    "print('Digits: 8 9')\n",
    "print('labels: %s' % np.unique(train_y))\n",
    "print('Class distribution: %s' % np.bincount(train_y))\n"
   ]
  },
  {
   "cell_type": "markdown",
   "metadata": {},
   "source": [
    "### The functions we will be using"
   ]
  },
  {
   "cell_type": "code",
   "execution_count": 7,
   "metadata": {},
   "outputs": [],
   "source": [
    "def data_init(X, y):\n",
    "    '''\n",
    "\n",
    "    :param X:train_x\n",
    "    :param y:train_y - labels\n",
    "    :return: add a ones to each row of train_x\n",
    "                create zeros weights called params\n",
    "                make the laable a matrix insted of just list.\n",
    "    '''\n",
    "    y = y[:, np.newaxis]\n",
    "    m = len(y)\n",
    "    X = np.hstack((np.ones((m, 1)), X))\n",
    "    n = np.size(X, 1)\n",
    "    params = np.zeros((n, 1))\n",
    "    # params = np.random.randn(n,1)\n",
    "    return (X, y, params)\n",
    "\n",
    "\n",
    "def sigmoid(x):\n",
    "    return expit(x)\n",
    "\n",
    "\n",
    "def compute_cost(X, y, theta):\n",
    "    N = len(y)\n",
    "    cost = np.sum(np.log(1 + np.exp(-y * (X @ theta)))) / N\n",
    "    return cost\n",
    "\n",
    "\n",
    "def Vectorized_cost_function(X, y, theta):\n",
    "    m = len(y)\n",
    "    h = sigmoid(X @ theta)\n",
    "    cost = (1 / m) * (((-y).T @ np.log(h)) - ((1 - y).T @ np.log(1 - h)))\n",
    "    return cost\n",
    "\n",
    "\n",
    "def predict(features, weights):\n",
    "    z = np.dot(features, weights)\n",
    "    return expit(z)\n",
    "\n",
    "\n",
    "def cost_function(features, labels, weights):\n",
    "    observations = len(labels)\n",
    "    predictions = predict(features, weights)\n",
    "    # Take the error when label=1\n",
    "    class1_cost = -labels * np.log(predictions)\n",
    "    # Take the error when label=0\n",
    "    class2_cost = (1 - labels) * np.log(1 - predictions)\n",
    "    # Take the sum of both costs\n",
    "    cost = class1_cost - class2_cost\n",
    "    # Take the average cost\n",
    "    cost = cost.sum() / observations\n",
    "    return cost\n",
    "\n",
    "\n",
    "def gradient_descent(features, labels, weights, lr):\n",
    "    N = len(features)\n",
    "    predictions = predict(features, weights)\n",
    "    gradient = np.dot(features.T, predictions - labels)\n",
    "    gradient /= N\n",
    "    gradient *= lr\n",
    "    weights -= gradient\n",
    "    return weights\n",
    "\n",
    "\n",
    "def train(features, labels, weights, lr, iters):\n",
    "    cost_history = []\n",
    "    for i in range(iters):\n",
    "        weights = gradient_descent(features, labels, weights, lr)\n",
    "        # Calculate error for auditing purposes\n",
    "        cost = cost_function(features, labels, weights)\n",
    "        cost_history.append(cost)\n",
    "        # Log Progress\n",
    "        if i % 1000 == 0:\n",
    "            print(\"iter: \" + str(i) + \" cost: \" + str(cost))\n",
    "\n",
    "    return cost_history, weights\n",
    "\n",
    "\n"
   ]
  },
  {
   "cell_type": "markdown",
   "metadata": {},
   "source": [
    "## Training the program\n"
   ]
  },
  {
   "cell_type": "code",
   "execution_count": 9,
   "metadata": {},
   "outputs": [
    {
     "name": "stdout",
     "output_type": "stream",
     "text": [
      "iter: 0 cost: 0.2921735259419504\n",
      "iter: 1000 cost: 0.034573161797979354\n",
      "iter: 2000 cost: 0.028539659853212305\n",
      "iter: 3000 cost: 0.02522814442504989\n",
      "iter: 4000 cost: 0.022919515451975122\n",
      "iter: 5000 cost: 0.02113948258907352\n",
      "iter: 6000 cost: 0.019695869792199144\n",
      "iter: 7000 cost: 0.018486370654638776\n",
      "iter: 8000 cost: 0.017448085434597586\n",
      "iter: 9000 cost: 0.01653993188661756\n",
      "iter: 0 cost: 0.015734554966970314\n",
      "iter: 1000 cost: 0.015509634885455469\n",
      "iter: 2000 cost: 0.015291718315392442\n",
      "iter: 3000 cost: 0.015080432616177097\n",
      "iter: 4000 cost: 0.014875440519044878\n",
      "iter: 5000 cost: 0.01467643601137695\n",
      "iter: 6000 cost: 0.014483140511414853\n",
      "iter: 7000 cost: 0.01429529930469016\n",
      "iter: 8000 cost: 0.01411267824390643\n",
      "iter: 9000 cost: 0.013935060737155244\n",
      "iter: 0 cost: 0.013762301888221059\n",
      "iter: 1000 cost: 0.01364966448341234\n",
      "iter: 2000 cost: 0.01353902357640087\n",
      "iter: 3000 cost: 0.013430327674853141\n",
      "iter: 4000 cost: 0.013323526981481705\n",
      "iter: 5000 cost: 0.013218573245563452\n",
      "iter: 6000 cost: 0.013115419642811679\n",
      "iter: 7000 cost: 0.013014020680270718\n",
      "iter: 8000 cost: 0.012914332122576073\n",
      "iter: 9000 cost: 0.012816310935829554\n"
     ]
    },
    {
     "data": {
      "image/png": "[encoded data removed]",
      "text/plain": [
       "<Figure size 432x288 with 1 Axes>"
      ]
     },
     "metadata": {
      "needs_background": "light"
     },
     "output_type": "display_data"
    }
   ],
   "source": [
    "(X, y, params) = data_init(train_x, train_y)\n",
    "scaler = MinMaxScaler()\n",
    "#\n",
    "X = scaler.fit_transform(X)\n",
    "\n",
    "# %%\n",
    "\n",
    "\n",
    "lr_list = [1, 0.3, 0.2, ]\n",
    "c_list = ['red', 'green', 'yellow']\n",
    "\n",
    "\n",
    "for lr, color in zip(lr_list, c_list):\n",
    "    (cost_history, params_optimal) = train(X, y, params, lr, 10000)\n",
    "    plt.plot(range(len(cost_history)), cost_history, c=color);\n",
    "# (cost_history, params_optimal) = train(X, y, params, 1, 100)\n",
    "# plt.plot(range(len(cost_history)), cost_history, c='red')\n",
    "plt.yscale('log')\n",
    "x = np.linspace(0, 10000, 1001)\n",
    "plt.title(\"Convergence Graph of Cost Function\")\n",
    "plt.xlabel(\"Number of Iterations\")\n",
    "plt.xlim(0, 10000)\n",
    "plt.grid()\n",
    "plt.ylabel(\"Cost\")\n",
    "plt.show()"
   ]
  },
  {
   "cell_type": "markdown",
   "metadata": {
    "pycharm": {
     "name": "#%% md\n"
    }
   },
   "source": [
    "### now we will evaluate our program"
   ]
  },
  {
   "cell_type": "code",
   "execution_count": null,
   "metadata": {
    "pycharm": {
     "name": "#%%\n"
    }
   },
   "outputs": [],
   "source": [
    "def predict2(X, params):\n",
    "    y_pred_dummy = np.round(sigmoid(X @ params))\n",
    "    y_pred = np.where(y_pred_dummy == 0, -1, 1)\n",
    "    return y_pred\n",
    "\n",
    "\n",
    "def get_accuracy(y_pred, y):\n",
    "    score = float(sum(y_pred == y)) / float(len(y)) * 100\n",
    "\n",
    "    return score\n",
    "\n",
    "\n",
    "def evaluate(train_X, train_y, test_X, test_y, learning_rate):\n",
    "    (X, y, params) = data_init(train_X, train_y)\n",
    "    X = scaler.fit_transform(X)\n",
    "\n",
    "    (_, params_optimal_1) = train(X, y, params, 1,1000)\n",
    "\n",
    "    X_normalized = test_X\n",
    "\n",
    "    X_test = np.hstack((np.ones((X_normalized.shape[0], 1)), X_normalized))\n",
    "\n",
    "    y_pred_train = predict2(X, params_optimal_1)\n",
    "\n",
    "    train_score = get_accuracy(y_pred_train, y)\n",
    "    print('Training Score:', train_score)\n",
    "\n",
    "    y_pred_test = predict2(X_test, params_optimal_1)\n",
    "\n",
    "    test_score = get_accuracy(y_pred_test, test_y[:, np.newaxis])\n",
    "    print('Test Score:', test_score)\n",
    "\n",
    "\n",
    "print('Evaluation results:')\n",
    "print('-' * 50)\n",
    "evaluate(train_x, train_y, test_x, test_y, 1)\n"
   ]
  },
  {
   "cell_type": "markdown",
   "metadata": {},
   "source": [
    "## Evaluating the results"
   ]
  },
  {
   "cell_type": "code",
   "execution_count": 10,
   "metadata": {},
   "outputs": [
    {
     "name": "stdout",
     "output_type": "stream",
     "text": [
      "Evaluation results:\n",
      "--------------------------------------------------\n",
      "iter: 0 cost: 0.2921735259419504\n",
      "Training Score: 50.44232732221844\n",
      "Test Score: 48.364888123924274\n"
     ]
    }
   ],
   "source": [
    "def predict2(X, params):\n",
    "    y_pred_dummy = np.round(sigmoid(X @ params))\n",
    "    y_pred = np.where(y_pred_dummy == 0, -1, 1)\n",
    "    return y_pred\n",
    "\n",
    "\n",
    "def get_accuracy(y_pred, y):\n",
    "    score = float(sum(y_pred == y)) / float(len(y)) * 100\n",
    "\n",
    "    return score\n",
    "\n",
    "\n",
    "def evaluate(train_X, train_y, test_X, test_y, learning_rate):\n",
    "    (X, y, params) = data_init(train_X, train_y)\n",
    "    X = scaler.fit_transform(X)\n",
    "\n",
    "    (_, params_optimal_1) = train(X, y, params, 1,1000)\n",
    "\n",
    "    X_normalized = test_X\n",
    "\n",
    "    X_test = np.hstack((np.ones((X_normalized.shape[0], 1)), X_normalized))\n",
    "\n",
    "    y_pred_train = predict2(X, params_optimal_1)\n",
    "\n",
    "    train_score = get_accuracy(y_pred_train, y)\n",
    "    print('Training Score:', train_score)\n",
    "\n",
    "    y_pred_test = predict2(X_test, params_optimal_1)\n",
    "\n",
    "    test_score = get_accuracy(y_pred_test, test_y[:, np.newaxis])\n",
    "    print('Test Score:', test_score)\n",
    "\n",
    "\n",
    "print('Evaluation results:')\n",
    "print('-' * 50)\n",
    "evaluate(train_x, train_y, test_x, test_y, 1)\n"
   ]
  }
 ],
 "metadata": {
  "kernelspec": {
   "display_name": "Python 3",
   "language": "python",
   "name": "python3"
  },
  "language_info": {
   "codemirror_mode": {
    "name": "ipython",
    "version": 3
   },
   "file_extension": ".py",
   "mimetype": "text/x-python",
   "name": "python",
   "nbconvert_exporter": "python",
   "pygments_lexer": "ipython3",
   "version": "3.8.3"
  }
 },
 "nbformat": 4,
 "nbformat_minor": 4
}
